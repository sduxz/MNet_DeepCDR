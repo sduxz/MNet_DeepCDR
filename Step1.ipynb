{
 "cells": [
  {
   "cell_type": "code",
   "execution_count": 41,
   "metadata": {},
   "outputs": [
    {
     "name": "stdout",
     "output_type": "stream",
     "text": [
      "460\n"
     ]
    }
   ],
   "source": [
    "#\n",
    "import numpy as np\n",
    "import scipy.io as sio\n",
    "from keras.preprocessing import image\n",
    "from skimage.transform import rotate, resize\n",
    "from skimage.measure import label, regionprops\n",
    "from mnet_utils import BW_img, disc_crop, mk_dir, return_list\n",
    "from PIL import Image\n",
    "import matplotlib.pyplot as plt\n",
    "import cv2\n",
    "import sys\n",
    "from glob import glob\n",
    "import re\n",
    "import pandas as pd\n",
    "\n",
    "lib_path = '../optic-disc-segment/'\n",
    "if lib_path not in sys.path:\n",
    "    sys.path.append(lib_path)\n",
    "\n",
    "from ipynb.fs.defs.Unet_Train import build_generator, get_dataset_mean_std, read_image_samples,get_norm_image_func, preprocess_mask,get_datagen\n",
    "from ipynb.fs.defs.OD_Seg_With_ContourNet import unet_3, preprocess_MESSIDOR_mask,evaluate_model, \\\n",
    "    find_max_contour, show_data, dice_loss, mean_IOU_gpu, fit_ellipse, mean_IOU\n",
    "\n",
    "disc_list = [400, 500, 600, 700, 800]\n",
    "DiscROI_size = 800\n",
    "CDRSeg_size = 400\n",
    "\n",
    "data_type = '.png'\n",
    "# data_img_path = '../data/REFUGE-Training400/Training400/Glaucoma/'\n",
    "# label_img_path = '../data/Annotation-Training400/Annotation-Training400/Disc_Cup_Masks/Glaucoma/'\n",
    "# data_img_path = '../../data/fundus-images/Baidu-GON/Training400/Glaucoma/'\n",
    "# label_img_path = '../../data/fundus-images/Baidu-GON/Annotation-Training400/Disc_Cup_Masks/Glaucoma/'\n",
    "\n",
    "data_img_path = '../../data/fundus-images/MESSIDOR/squared_image/'\n",
    "label_img_path = '../../data/fundus-images/MESSIDOR/mask/'\n",
    "\n",
    "data_save_path = mk_dir('result/MESSIDOR_crop/data/')\n",
    "label_save_path = mk_dir('result/MESSIDOR_crop/label/')\n",
    "\n",
    "\n",
    "file_test_list = return_list(data_img_path, data_type)"
   ]
  },
  {
   "cell_type": "code",
   "execution_count": 26,
   "metadata": {},
   "outputs": [],
   "source": [
    "IMAGE_SIZE = (512,512)\n",
    "batch_size = 1\n",
    "images_dir = '../../data/fundus-images/MESSIDOR/squared_image/'\n",
    "masks_dir = '../../data/fundus-images/MESSIDOR/mask/'\n",
    "\n",
    "image_files = glob(images_dir + \"*.png\")\n",
    "masks_files = glob(masks_dir + '*.png')\n",
    "sort_method = lambda x: int(re.search('[0-9]+', x).group(0))\n",
    "image_files.sort(key=sort_method)\n",
    "masks_files.sort(key=sort_method)\n",
    "images_df = pd.DataFrame(image_files, columns=['filename'])\n",
    "masks_df = pd.DataFrame(masks_files, columns=['filename'])"
   ]
  },
  {
   "cell_type": "code",
   "execution_count": 38,
   "metadata": {},
   "outputs": [
    {
     "name": "stdout",
     "output_type": "stream",
     "text": [
      "[0.42642656 0.21543424 0.08097636]\n",
      "[0.31391786 0.16513763 0.07199171]\n",
      "Found 460 images.\n",
      "Found 460 images.\n"
     ]
    }
   ],
   "source": [
    "image_samples = read_image_samples(images_df[:200])\n",
    "mean,std = get_dataset_mean_std(image_samples)\n",
    "\n",
    "img_gen_args = dict(featurewise_center=False, featurewise_std_normalization=False, preprocessing_function = get_norm_image_func(mean,std))\n",
    "mask_gen_args = dict(preprocessing_function = preprocess_mask)\n",
    "\n",
    "test_image_generator = build_generator(images_df, img_gen_args, IMAGE_SIZE, samples=image_samples)\n",
    "test_mask_generator = build_generator(masks_df, mask_gen_args, IMAGE_SIZE)\n",
    "\n",
    "\n",
    "test_generator = get_datagen(test_image_generator, test_mask_generator, shuffle=False, channel=[0])"
   ]
  },
  {
   "cell_type": "code",
   "execution_count": 36,
   "metadata": {},
   "outputs": [],
   "source": [
    "model = unet_3()\n",
    "model.load_weights('../optic-disc-segment/result/checkpoints/Unet_Disc_MESSIDOR_Best.h5')"
   ]
  },
  {
   "cell_type": "code",
   "execution_count": 39,
   "metadata": {},
   "outputs": [
    {
     "name": "stdout",
     "output_type": "stream",
     "text": [
      "The validation IOU is: 0.937528\n"
     ]
    }
   ],
   "source": [
    "evaluate_model(model, test_generator, len(test_image_generator), postprocessing=True, max_component_flag=False)"
   ]
  },
  {
   "cell_type": "code",
   "execution_count": 83,
   "metadata": {},
   "outputs": [],
   "source": [
    "test_image_generator.shuffle = False\n",
    "test_image_generator.reset()\n",
    "for idx in range(len(test_image_generator)):\n",
    "    temp_img = next(test_image_generator)\n",
    "    img_path = test_image_generator.filenames[idx]\n",
    "    img_name = os.path.split(img_path)[1]\n",
    "    mask_path = os.path.join(masks_dir, img_name.replace('squared', 'mask'))\n",
    "    \n",
    "    org_img = np.asarray(image.load_img(img_path, target_size = (2048, 2048)))\n",
    "    org_label = np.asarray(image.load_img(mask_path, target_size = (2048, 2048)))\n",
    "    new_label = (org_label > 200).astype(np.uint8) * 255\n",
    "    \n",
    "    disc_map = model.predict(temp_img)\n",
    "    disc_map = BW_img(disc_map.squeeze(), 0.5)\n",
    "    \n",
    "    regions = regionprops(label(disc_map))\n",
    "    C_x = int(regions[0].centroid[0] * org_img.shape[0] / IMAGE_SIZE[0])\n",
    "    C_y = int(regions[0].centroid[1] * org_img.shape[1] / IMAGE_SIZE[1])\n",
    "    \n",
    "    for disc_idx in range(len(disc_list)):\n",
    "        DiscROI_size = disc_list[disc_idx]\n",
    "        disc_region, err_coord, crop_coord = disc_crop(org_img, DiscROI_size, C_x, C_y)\n",
    "        label_region, _, _ = disc_crop(new_label, DiscROI_size, C_x, C_y)\n",
    "        Disc_flat = rotate(cv2.linearPolar(disc_region, (DiscROI_size/2, DiscROI_size/2), DiscROI_size/2,\n",
    "                                           cv2.INTER_NEAREST+cv2.WARP_FILL_OUTLIERS), -90)\n",
    "        Label_flat = rotate(cv2.linearPolar(label_region, (DiscROI_size/2, DiscROI_size/2), DiscROI_size/2,\n",
    "                                           cv2.INTER_NEAREST+cv2.WARP_FILL_OUTLIERS), -90)\n",
    "\n",
    "        disc_result = Image.fromarray((Disc_flat * 255).astype(np.uint8))\n",
    "        disc_result.save(data_save_path + os.path.split(img_path)[1][:-4] + '_' + str(DiscROI_size) + '.png')\n",
    "        label_result = Image.fromarray((Label_flat * 255).astype(np.uint8))\n",
    "        label_result.save(label_save_path + os.path.split(img_path)[1][:-4] + '_' + str(DiscROI_size) + '.png')"
   ]
  },
  {
   "cell_type": "code",
   "execution_count": null,
   "metadata": {},
   "outputs": [],
   "source": [
    "DiscSeg_model = DiscModel.DeepModel(size_set=DiscSeg_size)\n",
    "DiscSeg_model.load_weights('./deep_model/Model_DiscSeg_ORIGA.h5')\n",
    "\n",
    "for lineIdx in range(len(file_test_list)):\n",
    "\n",
    "    temp_txt = file_test_list[lineIdx]\n",
    "    print(' Processing Img ' + str(lineIdx + 1) + ': ' + temp_txt)\n",
    "\n",
    "    # load image\n",
    "    org_img = np.asarray(image.load_img(data_img_path + temp_txt))\n",
    "\n",
    "    # load label\n",
    "    org_label = np.asarray(image.load_img(label_img_path + temp_txt[:-4] + '.png'))\n",
    "    new_label = org_label[org_label > 200].astype(np.uint8) \n",
    "#     new_label = np.zeros(np.shape(org_label) + (3,), dtype=np.uint8)\n",
    "#     new_label[org_label < 200, 0] = 255\n",
    "#     new_label[org_label < 100, 1] = 255\n",
    "\n",
    "    # Disc region detection by U-Net\n",
    "    temp_img = resize(org_img, (DiscSeg_size, DiscSeg_size, 3))*255\n",
    "    temp_img = np.reshape(temp_img, (1,) + temp_img.shape)\n",
    "    disc_map = DiscSeg_model.predict([temp_img])\n",
    "\n",
    "    disc_map = BW_img(np.reshape(disc_map, (DiscSeg_size, DiscSeg_size)), 0.5)\n",
    "\n",
    "    regions = regionprops(label(disc_map))\n",
    "    C_x = int(regions[0].centroid[0] * org_img.shape[0] / DiscSeg_size)\n",
    "    C_y = int(regions[0].centroid[1] * org_img.shape[1] / DiscSeg_size)\n",
    "\n",
    "    for disc_idx in range(len(disc_list)):\n",
    "        DiscROI_size = disc_list[disc_idx]\n",
    "        disc_region, err_coord, crop_coord = disc_crop(org_img, DiscROI_size, C_x, C_y)\n",
    "        label_region, _, _ = disc_crop(new_label, DiscROI_size, C_x, C_y)\n",
    "        Disc_flat = rotate(cv2.linearPolar(disc_region, (DiscROI_size/2, DiscROI_size/2), DiscROI_size/2,\n",
    "                                           cv2.INTER_NEAREST+cv2.WARP_FILL_OUTLIERS), -90)\n",
    "        Label_flat = rotate(cv2.linearPolar(label_region, (DiscROI_size/2, DiscROI_size/2), DiscROI_size/2,\n",
    "                                           cv2.INTER_NEAREST+cv2.WARP_FILL_OUTLIERS), -90)\n",
    "\n",
    "        disc_result = Image.fromarray((Disc_flat * 255).astype(np.uint8))\n",
    "        disc_result.save(data_save_path + temp_txt[:-4] + '_' + str(DiscROI_size) + '.png')\n",
    "        label_result = Image.fromarray((Label_flat * 255).astype(np.uint8))\n",
    "        label_result.save(label_save_path + temp_txt[:-4] + '_' + str(DiscROI_size) + '.png')\n",
    "\n",
    "plt.imshow(Disc_flat)\n",
    "plt.show()"
   ]
  }
 ],
 "metadata": {
  "kernelspec": {
   "display_name": "tf_env",
   "language": "python",
   "name": "tf_env"
  },
  "language_info": {
   "codemirror_mode": {
    "name": "ipython",
    "version": 3
   },
   "file_extension": ".py",
   "mimetype": "text/x-python",
   "name": "python",
   "nbconvert_exporter": "python",
   "pygments_lexer": "ipython3",
   "version": "3.6.8"
  }
 },
 "nbformat": 4,
 "nbformat_minor": 2
}
